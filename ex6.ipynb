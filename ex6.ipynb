{
 "cells": [
  {
   "cell_type": "code",
   "execution_count": 26,
   "metadata": {},
   "outputs": [],
   "source": [
    "def decimal_to_roman(decimal):\n",
    "        \n",
    "    roman_ones = ['I', 'II', 'III', 'IV', 'V', 'VI', 'VII', 'VIII', 'IX']\n",
    "    roman_tens = ['X', 'XX', 'XXX', 'XL', 'L', 'LX', 'LXX', 'LXXX', 'XC']\n",
    "    roman_hundreds = ['C', 'CC', 'CCC', 'CD', 'D', 'DC', 'DCC', 'DCCC', 'CM']\n",
    "    \n",
    "    ones = 0\n",
    "    tens = 0\n",
    "    hundreds = 0\n",
    "    \n",
    "    if decimal > 0:\n",
    "        ones = decimal % 10\n",
    "    if decimal > 10:\n",
    "        tens = int(str(decimal % 100)[0])\n",
    "    if decimal > 100:\n",
    "        hundreds = int(str(decimal % 1000)[0])\n",
    "        \n",
    "    result = ''\n",
    "        \n",
    "    if hundreds:\n",
    "        result += roman_hundreds[hundreds-1]\n",
    "    if tens:\n",
    "        result += roman_tens[tens-1]\n",
    "    if ones:\n",
    "        result += roman_ones[ones-1]\n",
    "        \n",
    "    return result"
   ]
  },
  {
   "cell_type": "code",
   "execution_count": 27,
   "metadata": {},
   "outputs": [
    {
     "name": "stdout",
     "output_type": "stream",
     "text": [
      "I\n"
     ]
    }
   ],
   "source": [
    "print(decimal_to_roman(1))"
   ]
  },
  {
   "cell_type": "code",
   "execution_count": 28,
   "metadata": {},
   "outputs": [
    {
     "name": "stdout",
     "output_type": "stream",
     "text": [
      "XXI\n"
     ]
    }
   ],
   "source": [
    "print(decimal_to_roman(21))"
   ]
  },
  {
   "cell_type": "code",
   "execution_count": 29,
   "metadata": {},
   "outputs": [
    {
     "name": "stdout",
     "output_type": "stream",
     "text": [
      "CXXIII\n"
     ]
    }
   ],
   "source": [
    "print(decimal_to_roman(123))"
   ]
  },
  {
   "cell_type": "code",
   "execution_count": null,
   "metadata": {},
   "outputs": [],
   "source": []
  }
 ],
 "metadata": {
  "kernelspec": {
   "display_name": "Python 3",
   "language": "python",
   "name": "python3"
  },
  "language_info": {
   "codemirror_mode": {
    "name": "ipython",
    "version": 3
   },
   "file_extension": ".py",
   "mimetype": "text/x-python",
   "name": "python",
   "nbconvert_exporter": "python",
   "pygments_lexer": "ipython3",
   "version": "3.6.4"
  }
 },
 "nbformat": 4,
 "nbformat_minor": 2
}
